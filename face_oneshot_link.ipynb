{
 "cells": [
  {
   "cell_type": "code",
   "execution_count": 4,
   "id": "9c0282bb-d343-41a3-9c49-ba7cda5fe1b3",
   "metadata": {},
   "outputs": [],
   "source": [
    "import cv2\n",
    "import os\n",
    "import random\n",
    "import numpy as np\n",
    "from matplotlib import pyplot as plt\n",
    "import face_recognition\n",
    "from PIL import Image\n",
    "import urllib.request"
   ]
  },
  {
   "cell_type": "code",
   "execution_count": 5,
   "id": "06f3ca5b",
   "metadata": {},
   "outputs": [],
   "source": [
    "def pull_face(url):\n",
    "    response = urllib.request.urlopen(url)\n",
    "    image = face_recognition.load_image_file(response)\n",
    "    face_locations = face_recognition.face_locations(image)\n",
    "\n",
    "    for face_location in face_locations:\n",
    "        top, right, bottom, left = face_location\n",
    "\n",
    "        face_image = image[top:bottom, left:right]\n",
    "        pil_image = Image.fromarray(face_image)\n",
    "        pil_image.save(f'target_known.jpg')"
   ]
  },
  {
   "cell_type": "code",
   "execution_count": 45,
   "id": "b71f745b",
   "metadata": {},
   "outputs": [],
   "source": [
    "test = \"https://carlofontanos.com/wp-content/themes/carlo-fontanos/img/carlofontanos.jpg\"\n",
    "sq_me = \"https://images.squarespace-cdn.com/content/v1/61230dcf16111735cb2fa9dd/1629695085541-RKLNCVKF7DBI3W02BTQB/fullsizeoutput_619.jpeg?format=750w\"\n",
    "gd_me = \"https://drive.google.com/file/d/1orxZyPSPwHxGbz8uklXx34cj8slXttEO/view?usp=sharing\"\n",
    "test_license1 = \"https://cdn.www3.dps.texas.gov/cdn/ff/r64wASe7rJIDIqvugQdM9FVUTcqFdunnVlAo3zcBhD0/1601582939/public/2020-10/Driver%20License%20Services%20Image_06.16.20.png\"\n",
    "test_license2 = \"https://www.petaluma360.com/article/news/california-dmv-debuts-new-real-id-drivers-license/\"\n",
    "test_license3 = \"https://miro.medium.com/max/627/1*EH8R1I63EUw6zTLMKzYq0Q.jpeg\"\n",
    "ld_me = \"https://media-exp1.licdn.com/dms/image/C5603AQHRJtfU_SXNrQ/profile-displayphoto-shrink_400_400/0/1615030097421?e=1668643200&v=beta&t=nisKEkjvYL39hyXypC4O5q-ggCwT5ZSit4LnwOSAdhk\""
   ]
  },
  {
   "cell_type": "code",
   "execution_count": 49,
   "id": "aeb886ba",
   "metadata": {
    "scrolled": true
   },
   "outputs": [],
   "source": [
    "url = sq_me\n",
    "pull_face(url)"
   ]
  },
  {
   "cell_type": "code",
   "execution_count": 43,
   "id": "d3ceafff",
   "metadata": {},
   "outputs": [],
   "source": [
    "def compare_faces(known, unknown):\n",
    "    known = urllib.request.urlopen(known)\n",
    "    image_of_target = face_recognition.load_image_file(known)\n",
    "    target_face_encoding = face_recognition.face_encodings(image_of_target, num_jitters=10)[0]\n",
    "\n",
    "    unknown = urllib.request.urlopen(unknown)\n",
    "    unknown_image = face_recognition.load_image_file(unknown)\n",
    "    unknown_face_encoding = face_recognition.face_encodings(unknown_image, num_jitters=10)[0]\n",
    "\n",
    "    # Compare faces\n",
    "    results = face_recognition.compare_faces(\n",
    "        [target_face_encoding], unknown_face_encoding, tolerance=0.5825)\n",
    "        # Tolerance – How much distance between faces to consider it a match.\n",
    "        # Lower is more strict.\n",
    "\n",
    "    if results[0]:\n",
    "        print('This is the same person.')\n",
    "    else:\n",
    "        print('This is NOT the same person.')\n",
    "        \n",
    "    return results"
   ]
  },
  {
   "cell_type": "code",
   "execution_count": 46,
   "id": "7375928a",
   "metadata": {},
   "outputs": [
    {
     "name": "stdout",
     "output_type": "stream",
     "text": [
      "This is the same person.\n"
     ]
    },
    {
     "data": {
      "text/plain": [
       "[True]"
      ]
     },
     "execution_count": 46,
     "metadata": {},
     "output_type": "execute_result"
    }
   ],
   "source": [
    "known = sq_me\n",
    "unknown = ld_me\n",
    "compare_faces(known, unknown)"
   ]
  },
  {
   "cell_type": "code",
   "execution_count": null,
   "id": "021fd4e6",
   "metadata": {},
   "outputs": [],
   "source": [
    "cam = cv2.VideoCapture(0)\n",
    "while cam.isOpened():\n",
    "    try:\n",
    "        ret, frame = cam.read()\n",
    "\n",
    "        cv2.imshow('Verification', frame)\n",
    "\n",
    "        # Verification trigger\n",
    "        if cv2.waitKey(10) & 0xFF == ord('v'):\n",
    "\n",
    "            cv2.imwrite(os.path.join('input_image.jpg'), frame)\n",
    "            # Run verification\n",
    "            results = compare_faces('target_known.jpg', 'input_image.jpg')\n",
    "            print(results)\n",
    "\n",
    "        if cv2.waitKey(10) & 0xFF == ord('q'):\n",
    "            break\n",
    "    \n",
    "    except IndexError:\n",
    "        print ('Error: Creating directory of data')\n",
    "    \n",
    "cam.release()\n",
    "cv2.destroyAllWindows()"
   ]
  }
 ],
 "metadata": {
  "kernelspec": {
   "display_name": "Python 3",
   "language": "python",
   "name": "python3"
  },
  "language_info": {
   "codemirror_mode": {
    "name": "ipython",
    "version": 3
   },
   "file_extension": ".py",
   "mimetype": "text/x-python",
   "name": "python",
   "nbconvert_exporter": "python",
   "pygments_lexer": "ipython3",
   "version": "3.8.8"
  }
 },
 "nbformat": 4,
 "nbformat_minor": 5
}
