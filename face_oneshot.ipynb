{
 "cells": [
  {
   "cell_type": "code",
   "execution_count": 1,
   "id": "9c0282bb-d343-41a3-9c49-ba7cda5fe1b3",
   "metadata": {},
   "outputs": [],
   "source": [
    "import cv2\n",
    "import os\n",
    "import random\n",
    "import numpy as np\n",
    "from matplotlib import pyplot as plt\n",
    "import face_recognition\n",
    "from PIL import Image"
   ]
  },
  {
   "cell_type": "code",
   "execution_count": 2,
   "id": "06f3ca5b",
   "metadata": {},
   "outputs": [],
   "source": [
    "def pull_face(license):\n",
    "    image = face_recognition.load_image_file(license)\n",
    "    face_locations = face_recognition.face_locations(image)\n",
    "\n",
    "    for face_location in face_locations:\n",
    "        top, right, bottom, left = face_location\n",
    "\n",
    "        face_image = image[top:bottom, left:right]\n",
    "        pil_image = Image.fromarray(face_image)\n",
    "        pil_image.save(f'target_known.jpg')"
   ]
  },
  {
   "cell_type": "code",
   "execution_count": 3,
   "id": "9ffe53e9",
   "metadata": {},
   "outputs": [],
   "source": [
    "license = 'target_license.jpg'\n",
    "pull_face(license)"
   ]
  },
  {
   "cell_type": "code",
   "execution_count": 4,
   "id": "d3ceafff",
   "metadata": {},
   "outputs": [],
   "source": [
    "def compare_faces(known, unknown):\n",
    "    image_of_target = face_recognition.load_image_file(known)\n",
    "    target_face_encoding = face_recognition.face_encodings(image_of_target, num_jitters=10)[0]\n",
    "\n",
    "    unknown_image = face_recognition.load_image_file(unknown)\n",
    "    unknown_face_encoding = face_recognition.face_encodings(unknown_image, num_jitters=10)[0]\n",
    "\n",
    "    # Compare faces\n",
    "    results = face_recognition.compare_faces(\n",
    "        [target_face_encoding], unknown_face_encoding, tolerance=0.5825)\n",
    "        # Tolerance – How much distance between faces to consider it a match.\n",
    "        # Lower is more strict.\n",
    "        \n",
    "    return results"
   ]
  },
  {
   "cell_type": "code",
   "execution_count": 6,
   "id": "7375928a",
   "metadata": {},
   "outputs": [
    {
     "data": {
      "text/plain": [
       "[False]"
      ]
     },
     "execution_count": 6,
     "metadata": {},
     "output_type": "execute_result"
    }
   ],
   "source": [
    "known = 'target_known.jpg'\n",
    "unknown = 'target_lookalike.jpg'\n",
    "compare_faces(known, unknown)"
   ]
  },
  {
   "cell_type": "code",
   "execution_count": 6,
   "id": "021fd4e6",
   "metadata": {},
   "outputs": [
    {
     "name": "stdout",
     "output_type": "stream",
     "text": [
      "This is the same person.\n",
      "[True]\n",
      "This is the same person.\n",
      "[True]\n",
      "This is the same person.\n",
      "[True]\n",
      "This is NOT the same person.\n",
      "[False]\n",
      "This is the same person.\n",
      "[True]\n",
      "This is the same person.\n",
      "[True]\n"
     ]
    }
   ],
   "source": [
    "cam = cv2.VideoCapture(0)\n",
    "while cam.isOpened():\n",
    "    try:\n",
    "        ret, frame = cam.read()\n",
    "\n",
    "        cv2.imshow('Verification', frame)\n",
    "\n",
    "        # Verification trigger\n",
    "        if cv2.waitKey(10) & 0xFF == ord('v'):\n",
    "\n",
    "            cv2.imwrite(os.path.join('input_image.jpg'), frame)\n",
    "            # Run verification\n",
    "            results = compare_faces('target_known.jpg', 'input_image.jpg')\n",
    "            print(results)\n",
    "\n",
    "        if cv2.waitKey(10) & 0xFF == ord('q'):\n",
    "            break\n",
    "    \n",
    "    except IndexError:\n",
    "        print ('Error: Creating directory of data')\n",
    "    \n",
    "cam.release()\n",
    "cv2.destroyAllWindows()"
   ]
  },
  {
   "cell_type": "code",
   "execution_count": null,
   "id": "28c260a7",
   "metadata": {},
   "outputs": [],
   "source": []
  }
 ],
 "metadata": {
  "kernelspec": {
   "display_name": "Python 3",
   "language": "python",
   "name": "python3"
  },
  "language_info": {
   "codemirror_mode": {
    "name": "ipython",
    "version": 3
   },
   "file_extension": ".py",
   "mimetype": "text/x-python",
   "name": "python",
   "nbconvert_exporter": "python",
   "pygments_lexer": "ipython3",
   "version": "3.8.8"
  }
 },
 "nbformat": 4,
 "nbformat_minor": 5
}
