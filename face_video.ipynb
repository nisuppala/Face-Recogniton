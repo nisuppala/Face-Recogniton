{
 "cells": [
  {
   "cell_type": "code",
   "execution_count": 1,
   "id": "9c0282bb-d343-41a3-9c49-ba7cda5fe1b3",
   "metadata": {},
   "outputs": [],
   "source": [
    "import cv2\n",
    "import os\n",
    "import random\n",
    "import numpy as np\n",
    "from matplotlib import pyplot as plt\n",
    "import face_recognition\n",
    "from PIL import Image"
   ]
  },
  {
   "cell_type": "code",
   "execution_count": 2,
   "id": "06f3ca5b",
   "metadata": {},
   "outputs": [],
   "source": [
    "def pull_face(license):\n",
    "    image = face_recognition.load_image_file(license)\n",
    "    face_locations = face_recognition.face_locations(image)\n",
    "\n",
    "    for face_location in face_locations:\n",
    "        top, right, bottom, left = face_location\n",
    "\n",
    "        face_image = image[top:bottom, left:right]\n",
    "        pil_image = Image.fromarray(face_image)\n",
    "        pil_image.save(f'target_known.jpg')"
   ]
  },
  {
   "cell_type": "code",
   "execution_count": 3,
   "id": "9ffe53e9",
   "metadata": {},
   "outputs": [],
   "source": [
    "license = 'target_license.jpg'\n",
    "pull_face(license)"
   ]
  },
  {
   "cell_type": "code",
   "execution_count": 4,
   "id": "d3ceafff",
   "metadata": {},
   "outputs": [],
   "source": [
    "def compare_faces(known, unknown):\n",
    "    image_of_target = face_recognition.load_image_file(known)\n",
    "    target_face_encoding = face_recognition.face_encodings(image_of_target, num_jitters=10)[0]\n",
    "\n",
    "    unknown_image = face_recognition.load_image_file(unknown)\n",
    "    unknown_face_encoding = face_recognition.face_encodings(unknown_image, num_jitters=10)[0]\n",
    "\n",
    "    # Compare faces\n",
    "    results = face_recognition.compare_faces(\n",
    "        [target_face_encoding], unknown_face_encoding, tolerance=0.5825)\n",
    "        # Tolerance – How much distance between faces to consider it a match.\n",
    "        # Lower is more strict.\n",
    "\n",
    "    if results[0]:\n",
    "        print('This is the same person.')\n",
    "    else:\n",
    "        print('This is NOT the same person.')\n",
    "        \n",
    "    return results"
   ]
  },
  {
   "cell_type": "code",
   "execution_count": 5,
   "id": "7375928a",
   "metadata": {},
   "outputs": [
    {
     "name": "stdout",
     "output_type": "stream",
     "text": [
      "This is the same person.\n"
     ]
    },
    {
     "data": {
      "text/plain": [
       "[True]"
      ]
     },
     "execution_count": 5,
     "metadata": {},
     "output_type": "execute_result"
    }
   ],
   "source": [
    "known = 'target_known.jpg'\n",
    "unknown = 'target_mustache.jpg'\n",
    "compare_faces(known, unknown)"
   ]
  },
  {
   "cell_type": "code",
   "execution_count": 7,
   "id": "08396877",
   "metadata": {},
   "outputs": [
    {
     "name": "stdout",
     "output_type": "stream",
     "text": [
      "Creating..../data/frame0.jpg\n",
      "Creating..../data/frame1.jpg\n",
      "Creating..../data/frame2.jpg\n",
      "Creating..../data/frame3.jpg\n",
      "Creating..../data/frame4.jpg\n",
      "Creating..../data/frame5.jpg\n",
      "Creating..../data/frame6.jpg\n",
      "Creating..../data/frame7.jpg\n",
      "Creating..../data/frame8.jpg\n",
      "Creating..../data/frame9.jpg\n",
      "Creating..../data/frame10.jpg\n",
      "Creating..../data/frame11.jpg\n",
      "Creating..../data/frame12.jpg\n",
      "Creating..../data/frame13.jpg\n",
      "Creating..../data/frame14.jpg\n",
      "Creating..../data/frame15.jpg\n",
      "Creating..../data/frame16.jpg\n",
      "Creating..../data/frame17.jpg\n",
      "Creating..../data/frame18.jpg\n",
      "Creating..../data/frame19.jpg\n",
      "Creating..../data/frame20.jpg\n",
      "Creating..../data/frame21.jpg\n",
      "Creating..../data/frame22.jpg\n",
      "Creating..../data/frame23.jpg\n",
      "Creating..../data/frame24.jpg\n",
      "Creating..../data/frame25.jpg\n",
      "Creating..../data/frame26.jpg\n",
      "Creating..../data/frame27.jpg\n",
      "Creating..../data/frame28.jpg\n",
      "Creating..../data/frame29.jpg\n",
      "Creating..../data/frame30.jpg\n",
      "Creating..../data/frame31.jpg\n",
      "Creating..../data/frame32.jpg\n",
      "Creating..../data/frame33.jpg\n",
      "Creating..../data/frame34.jpg\n",
      "Creating..../data/frame35.jpg\n",
      "Creating..../data/frame36.jpg\n",
      "Creating..../data/frame37.jpg\n",
      "Creating..../data/frame38.jpg\n",
      "Creating..../data/frame39.jpg\n",
      "Creating..../data/frame40.jpg\n",
      "Creating..../data/frame41.jpg\n",
      "Creating..../data/frame42.jpg\n",
      "Creating..../data/frame43.jpg\n",
      "Creating..../data/frame44.jpg\n",
      "Creating..../data/frame45.jpg\n",
      "Creating..../data/frame46.jpg\n",
      "Creating..../data/frame47.jpg\n",
      "Creating..../data/frame48.jpg\n",
      "Creating..../data/frame49.jpg\n",
      "Creating..../data/frame50.jpg\n",
      "Creating..../data/frame51.jpg\n",
      "Creating..../data/frame52.jpg\n",
      "Creating..../data/frame53.jpg\n",
      "Creating..../data/frame54.jpg\n",
      "Creating..../data/frame55.jpg\n",
      "Creating..../data/frame56.jpg\n",
      "Creating..../data/frame57.jpg\n",
      "Creating..../data/frame58.jpg\n",
      "Creating..../data/frame59.jpg\n",
      "Creating..../data/frame60.jpg\n",
      "Creating..../data/frame61.jpg\n",
      "Creating..../data/frame62.jpg\n",
      "Creating..../data/frame63.jpg\n",
      "Creating..../data/frame64.jpg\n",
      "Creating..../data/frame65.jpg\n",
      "Creating..../data/frame66.jpg\n",
      "Creating..../data/frame67.jpg\n",
      "Creating..../data/frame68.jpg\n",
      "Creating..../data/frame69.jpg\n",
      "Creating..../data/frame70.jpg\n",
      "Creating..../data/frame71.jpg\n",
      "Creating..../data/frame72.jpg\n",
      "Creating..../data/frame73.jpg\n",
      "Creating..../data/frame74.jpg\n",
      "Creating..../data/frame75.jpg\n",
      "Creating..../data/frame76.jpg\n",
      "Creating..../data/frame77.jpg\n",
      "Creating..../data/frame78.jpg\n",
      "Creating..../data/frame79.jpg\n",
      "Creating..../data/frame80.jpg\n",
      "Creating..../data/frame81.jpg\n",
      "Creating..../data/frame82.jpg\n",
      "Creating..../data/frame83.jpg\n",
      "Creating..../data/frame84.jpg\n",
      "Creating..../data/frame85.jpg\n",
      "Creating..../data/frame86.jpg\n",
      "Creating..../data/frame87.jpg\n",
      "Creating..../data/frame88.jpg\n",
      "Creating..../data/frame89.jpg\n",
      "Creating..../data/frame90.jpg\n",
      "Creating..../data/frame91.jpg\n",
      "Creating..../data/frame92.jpg\n",
      "Creating..../data/frame93.jpg\n",
      "Creating..../data/frame94.jpg\n",
      "Creating..../data/frame95.jpg\n",
      "Creating..../data/frame96.jpg\n",
      "Creating..../data/frame97.jpg\n",
      "Creating..../data/frame98.jpg\n",
      "Creating..../data/frame99.jpg\n",
      "Creating..../data/frame100.jpg\n",
      "Creating..../data/frame101.jpg\n",
      "Creating..../data/frame102.jpg\n",
      "Creating..../data/frame103.jpg\n",
      "Creating..../data/frame104.jpg\n",
      "Creating..../data/frame105.jpg\n",
      "Creating..../data/frame106.jpg\n",
      "Creating..../data/frame107.jpg\n",
      "Creating..../data/frame108.jpg\n",
      "Creating..../data/frame109.jpg\n",
      "Creating..../data/frame110.jpg\n",
      "Creating..../data/frame111.jpg\n",
      "Creating..../data/frame112.jpg\n",
      "Creating..../data/frame113.jpg\n",
      "Creating..../data/frame114.jpg\n",
      "Creating..../data/frame115.jpg\n",
      "Creating..../data/frame116.jpg\n",
      "Creating..../data/frame117.jpg\n",
      "Creating..../data/frame118.jpg\n",
      "Creating..../data/frame119.jpg\n",
      "Creating..../data/frame120.jpg\n",
      "Creating..../data/frame121.jpg\n",
      "Creating..../data/frame122.jpg\n",
      "Creating..../data/frame123.jpg\n",
      "Creating..../data/frame124.jpg\n",
      "Creating..../data/frame125.jpg\n",
      "Creating..../data/frame126.jpg\n",
      "Creating..../data/frame127.jpg\n",
      "Creating..../data/frame128.jpg\n",
      "Creating..../data/frame129.jpg\n",
      "Creating..../data/frame130.jpg\n",
      "Creating..../data/frame131.jpg\n",
      "Creating..../data/frame132.jpg\n",
      "Creating..../data/frame133.jpg\n",
      "Creating..../data/frame134.jpg\n",
      "Creating..../data/frame135.jpg\n",
      "Creating..../data/frame136.jpg\n",
      "Creating..../data/frame137.jpg\n",
      "Creating..../data/frame138.jpg\n",
      "Creating..../data/frame139.jpg\n",
      "Creating..../data/frame140.jpg\n",
      "Creating..../data/frame141.jpg\n",
      "Creating..../data/frame142.jpg\n",
      "Creating..../data/frame143.jpg\n",
      "Creating..../data/frame144.jpg\n",
      "Creating..../data/frame145.jpg\n",
      "Creating..../data/frame146.jpg\n",
      "Creating..../data/frame147.jpg\n",
      "Creating..../data/frame148.jpg\n",
      "Creating..../data/frame149.jpg\n"
     ]
    }
   ],
   "source": [
    "cam = cv2.VideoCapture(0)\n",
    "\n",
    "try:\n",
    "    \n",
    "    if not os.path.exists('data'):\n",
    "        os.makedirs('data')\n",
    "\n",
    "except OSError:\n",
    "    print ('Error: Creating directory of data')\n",
    "\n",
    "currentframe = 0\n",
    "\n",
    "while cam.isOpened():\n",
    "    \n",
    "    ret,frame = cam.read()\n",
    "    \n",
    "    cv2.imshow('Verification', frame)\n",
    "\n",
    "    if ret:\n",
    "        # if video is still left continue creating images\n",
    "        name = './data/frame' + str(currentframe) + '.jpg'\n",
    "        print ('Creating...' + name)\n",
    "\n",
    "        cv2.imwrite(name, frame)\n",
    "\n",
    "        currentframe += 1\n",
    "    if currentframe ==150:\n",
    "        break\n",
    "\n",
    "# Release all space and windows once done\n",
    "cam.release()\n",
    "cv2.destroyAllWindows()\n",
    "\n"
   ]
  },
  {
   "cell_type": "code",
   "execution_count": 5,
   "id": "3bf8a54f",
   "metadata": {},
   "outputs": [
    {
     "name": "stdout",
     "output_type": "stream",
     "text": [
      "This is the same person.\n",
      "[True]\n"
     ]
    }
   ],
   "source": [
    "results = compare_faces('target_known.jpg', './data/frame110.jpg')\n",
    "print(results)"
   ]
  },
  {
   "cell_type": "code",
   "execution_count": 8,
   "id": "d230cd19",
   "metadata": {},
   "outputs": [],
   "source": [
    "dirpath = 'data'\n",
    "filenames = random.sample(os.listdir(dirpath), 20)"
   ]
  },
  {
   "cell_type": "code",
   "execution_count": 9,
   "id": "045af722",
   "metadata": {},
   "outputs": [
    {
     "data": {
      "text/plain": [
       "['frame85.jpg',\n",
       " 'frame146.jpg',\n",
       " 'frame5.jpg',\n",
       " 'frame94.jpg',\n",
       " 'frame38.jpg',\n",
       " 'frame87.jpg',\n",
       " 'frame117.jpg',\n",
       " 'frame40.jpg',\n",
       " 'frame113.jpg',\n",
       " 'frame52.jpg',\n",
       " 'frame16.jpg',\n",
       " 'frame144.jpg',\n",
       " 'frame82.jpg',\n",
       " 'frame36.jpg',\n",
       " 'frame111.jpg',\n",
       " 'frame127.jpg',\n",
       " 'frame104.jpg',\n",
       " 'frame9.jpg',\n",
       " 'frame21.jpg',\n",
       " 'frame98.jpg']"
      ]
     },
     "execution_count": 9,
     "metadata": {},
     "output_type": "execute_result"
    }
   ],
   "source": [
    "filenames"
   ]
  },
  {
   "cell_type": "code",
   "execution_count": 10,
   "id": "3f408212",
   "metadata": {},
   "outputs": [],
   "source": [
    "framevalues = list(map(lambda x: compare_faces('target_known.jpg', './data/' + x), filenames))\n"
   ]
  },
  {
   "cell_type": "code",
   "execution_count": 11,
   "id": "02d8fee6",
   "metadata": {},
   "outputs": [
    {
     "name": "stdout",
     "output_type": "stream",
     "text": [
      "[[True], [True], [True], [True], [True], [True], [True], [True], [True], [True], [True], [True], [True], [True], [True], [True], [True], [True], [True], [True]]\n"
     ]
    }
   ],
   "source": [
    "print(framevalues)"
   ]
  },
  {
   "cell_type": "code",
   "execution_count": 12,
   "id": "1620b238",
   "metadata": {},
   "outputs": [
    {
     "data": {
      "text/plain": [
       "0"
      ]
     },
     "execution_count": 12,
     "metadata": {},
     "output_type": "execute_result"
    }
   ],
   "source": [
    "framevalues.count([False])"
   ]
  },
  {
   "cell_type": "code",
   "execution_count": 15,
   "id": "e9643cf2",
   "metadata": {},
   "outputs": [
    {
     "name": "stdout",
     "output_type": "stream",
     "text": [
      "This is the same person.\n"
     ]
    }
   ],
   "source": [
    "if framevalues.count([False])<4: #80%\n",
    "    print('This is the same person.')\n",
    "else:\n",
    "    print('This is NOT the same person.')"
   ]
  }
 ],
 "metadata": {
  "kernelspec": {
   "display_name": "Python 3",
   "language": "python",
   "name": "python3"
  },
  "language_info": {
   "codemirror_mode": {
    "name": "ipython",
    "version": 3
   },
   "file_extension": ".py",
   "mimetype": "text/x-python",
   "name": "python",
   "nbconvert_exporter": "python",
   "pygments_lexer": "ipython3",
   "version": "3.8.8"
  }
 },
 "nbformat": 4,
 "nbformat_minor": 5
}
